{
 "cells": [
  {
   "cell_type": "markdown",
   "metadata": {},
   "source": [
    "## Define the dataset identifier on Kaggle"
   ]
  },
  {
   "cell_type": "code",
   "execution_count": 3,
   "metadata": {},
   "outputs": [],
   "source": [
    "import os\n",
    "import kaggle\n",
    "import pandas as pd\n",
    "\n",
    "dataset_name = \"fatemehmohammadinia/heart-attack-dataset-tarik-a-rashid\"\n",
    "download_dir = \"heart_attack_data\""
   ]
  },
  {
   "cell_type": "code",
   "execution_count": null,
   "metadata": {},
   "outputs": [],
   "source": []
  },
  {
   "cell_type": "markdown",
   "metadata": {},
   "source": [
    "## Step 1: Download the dataset using Kaggle API and unzip it"
   ]
  },
  {
   "cell_type": "code",
   "execution_count": 8,
   "metadata": {},
   "outputs": [
    {
     "name": "stdout",
     "output_type": "stream",
     "text": [
      "Dataset URL: https://www.kaggle.com/datasets/fatemehmohammadinia/heart-attack-dataset-tarik-a-rashid\n",
      "Dataset downloaded and extracted to: heart_attack_data\n"
     ]
    }
   ],
   "source": [
    "if not os.path.exists(download_dir):\n",
    "    os.makedirs(download_dir, exist_ok=True)\n",
    "    kaggle.api.dataset_download_files(dataset_name, path=download_dir, unzip=True)\n",
    "    print(f\"Dataset downloaded and extracted to: {download_dir}\")\n",
    "else:\n",
    "    print(\"Dataset already exists locally. Skipping download.\")"
   ]
  },
  {
   "cell_type": "markdown",
   "metadata": {},
   "source": [
    "## Step 2: Find CSV files in the directory"
   ]
  },
  {
   "cell_type": "code",
   "execution_count": 11,
   "metadata": {},
   "outputs": [
    {
     "name": "stdout",
     "output_type": "stream",
     "text": [
      "CSV files found: ['Medicaldataset.csv']\n"
     ]
    }
   ],
   "source": [
    "csv_files = [f for f in os.listdir(download_dir) if f.endswith(\".csv\")]\n",
    "print(\"CSV files found:\", csv_files)"
   ]
  },
  {
   "cell_type": "markdown",
   "metadata": {},
   "source": [
    "## Step 3: Load the first CSV file (assuming one CSV file is present)"
   ]
  },
  {
   "cell_type": "code",
   "execution_count": 14,
   "metadata": {},
   "outputs": [
    {
     "name": "stdout",
     "output_type": "stream",
     "text": [
      "Preview of the dataset:\n",
      "   Age  Gender  Heart rate  Systolic blood pressure  Diastolic blood pressure  \\\n",
      "0   64       1          66                      160                        83   \n",
      "1   21       1          94                       98                        46   \n",
      "2   55       1          64                      160                        77   \n",
      "3   64       1          70                      120                        55   \n",
      "4   55       1          64                      112                        65   \n",
      "\n",
      "   Blood sugar  CK-MB  Troponin    Result  \n",
      "0        160.0   1.80     0.012  negative  \n",
      "1        296.0   6.75     1.060  positive  \n",
      "2        270.0   1.99     0.003  negative  \n",
      "3        270.0  13.87     0.122  positive  \n",
      "4        300.0   1.08     0.003  negative  \n",
      "Dataset saved as: heart_attack_data.xlsx\n"
     ]
    }
   ],
   "source": [
    "if csv_files:\n",
    "    csv_path = os.path.join(download_dir, csv_files[0])\n",
    "    df = pd.read_csv(csv_path)\n",
    "    print(\"Preview of the dataset:\")\n",
    "    print(df.head())\n",
    "\n",
    "    # Step 4: Save the data to an Excel file for analysis\n",
    "    df.to_excel(\"heart_attack_data.xlsx\", index=False)\n",
    "    print(\"Dataset saved as: heart_attack_data.xlsx\")\n",
    "else:\n",
    "    print(\"No CSV file found in the directory.\")"
   ]
  }
 ],
 "metadata": {
  "kernelspec": {
   "display_name": "Python 3 (ipykernel)",
   "language": "python",
   "name": "python3"
  },
  "language_info": {
   "codemirror_mode": {
    "name": "ipython",
    "version": 3
   },
   "file_extension": ".py",
   "mimetype": "text/x-python",
   "name": "python",
   "nbconvert_exporter": "python",
   "pygments_lexer": "ipython3",
   "version": "3.12.4"
  }
 },
 "nbformat": 4,
 "nbformat_minor": 4
}
